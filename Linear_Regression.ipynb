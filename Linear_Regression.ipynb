{
 "cells": [
  {
   "cell_type": "markdown",
   "metadata": {},
   "source": [
    "# Linear Regression"
   ]
  },
  {
   "cell_type": "markdown",
   "metadata": {},
   "source": [
    "Our observations each consist of a vector of covariates $(x_{i1},\\ldots x_{ip})$ along with corresponding target variable $y_i$. Our model assumes that these satisfy:\n",
    "\n",
    "$$y_i = \\beta_0+\\beta_1x_{i1}+\\ldots + \\beta_px_{ip}+\\epsilon_i$$\n",
    "\n",
    "where $\\epsilon_i\\sim N(0,\\sigma^2)$ are independent. Then if we try to predict targets from covariates using an expression of the form:\n",
    "\n",
    "$$y_i = \\beta_0+\\beta_1x_{i1}+\\ldots + \\beta_px_{ip}$$\n",
    "\n",
    "we can write the sum of squared errors as:\n",
    "\n",
    "$$L(\\beta) = (Y-X\\beta)^\\top(Y-X\\beta)$$\n",
    "\n",
    "and the minimising $\\beta$ satisfies:\n",
    "\n",
    "\n",
    "$$\\hat{\\beta} = \\left(X^\\top X \\right)^{-1} X^\\top Y$$"
   ]
  },
  {
   "cell_type": "markdown",
   "metadata": {},
   "source": [
    "We can implement this using sklearn.linear_model's LinearRegression, on some randomly generated data"
   ]
  },
  {
   "cell_type": "code",
   "execution_count": 1,
   "metadata": {},
   "outputs": [],
   "source": [
    "import numpy as np\n",
    "import matplotlib.pyplot as plt\n",
    "\n",
    "X = 2*np.random.rand(100,1)\n",
    "y = 4+3*X+np.random.randn(100,1)\n",
    "X_new = np.array([[0],[2]])"
   ]
  },
  {
   "cell_type": "code",
   "execution_count": 2,
   "metadata": {},
   "outputs": [
    {
     "data": {
      "text/plain": [
       "(array([3.89337848]), array([[3.07132377]]))"
      ]
     },
     "execution_count": 2,
     "metadata": {},
     "output_type": "execute_result"
    }
   ],
   "source": [
    "from sklearn.linear_model import LinearRegression\n",
    "lin_reg = LinearRegression()\n",
    "lin_reg.fit(X,y)\n",
    "lin_reg.intercept_, lin_reg.coef_"
   ]
  },
  {
   "cell_type": "code",
   "execution_count": 3,
   "metadata": {},
   "outputs": [
    {
     "data": {
      "text/plain": [
       "array([[ 3.89337848],\n",
       "       [10.03602601]])"
      ]
     },
     "execution_count": 3,
     "metadata": {},
     "output_type": "execute_result"
    }
   ],
   "source": [
    "lin_reg.predict(X_new)"
   ]
  },
  {
   "cell_type": "markdown",
   "metadata": {},
   "source": [
    "This LinearRegression class is based on scipy.linalg.lstsq() which returns the best model parameters $\\hat{\\beta}$, the residuals,"
   ]
  },
  {
   "cell_type": "code",
   "execution_count": 4,
   "metadata": {},
   "outputs": [
    {
     "data": {
      "text/plain": [
       "array([[3.89337848],\n",
       "       [3.07132377]])"
      ]
     },
     "execution_count": 4,
     "metadata": {},
     "output_type": "execute_result"
    }
   ],
   "source": [
    "X_b = np.c_[np.ones((100,1)),X]\n",
    "theta_best_svd, residuals, rank, s = np.linalg.lstsq(X_b, y, rcond = 1e-6)\n",
    "theta_best_svd"
   ]
  },
  {
   "cell_type": "markdown",
   "metadata": {},
   "source": [
    "If we have a large number of features, and/or too many observatiosn to fit in memory, gradient descent can be a better approach to training the model as opposed to computing the exact solution from the closed form expression. For that we need the gradient of the sum of squared errors, which we are minimising.\n",
    "\n",
    "$$\\nabla_\\beta L(\\beta) = 2X^\\top(X\\beta - Y)$$\n",
    "\n",
    "Then for some learning rate $\\alpha$ we iteratively compute:\n",
    "\n",
    "$$\\theta^{(k+1)} = \\theta^{(k)} - \\alpha \\nabla_\\beta L(\\beta)$$\n",
    "\n",
    "More often some form of stochastic or mini-batch GD will be used to reduce the amount of data utilised at every step. In sklearn.linear_model, SGDRegressor implements linear regression with SGD."
   ]
  },
  {
   "cell_type": "code",
   "execution_count": 5,
   "metadata": {},
   "outputs": [
    {
     "data": {
      "text/plain": [
       "(array([3.90486411]), array([3.10792854]))"
      ]
     },
     "execution_count": 5,
     "metadata": {},
     "output_type": "execute_result"
    }
   ],
   "source": [
    "from sklearn.linear_model import SGDRegressor\n",
    "sgd_reg = SGDRegressor(max_iter = 1000, tol = 1e-3, penalty = None, eta0 = 0.1)\n",
    "sgd_reg.fit(X,y.ravel())\n",
    "sgd_reg.intercept_, sgd_reg.coef_"
   ]
  },
  {
   "cell_type": "markdown",
   "metadata": {},
   "source": [
    "## Polynomial Regression"
   ]
  },
  {
   "cell_type": "markdown",
   "metadata": {},
   "source": [
    "There is an obvious extension of the above model to include higher order terms in the covariates. For example for degree 2 we have:\n",
    "\n",
    "$$y_i = \\beta_0 + \\sum_{k=1}^p \\beta_{k}x_{ik} + \\sum_{k=1}^p\\sum_{k'=1}^p \\beta_{kk'}x_{ik}x_{ik'}$$\n",
    "\n",
    "We can implement this still using a linear model and just feeding in polynomial features."
   ]
  },
  {
   "cell_type": "code",
   "execution_count": 6,
   "metadata": {},
   "outputs": [],
   "source": [
    "m = 100\n",
    "X = 6*np.random.rand(m,1)-3\n",
    "y = 0.5*X**2+X+2+np.random.randn(m,1)"
   ]
  },
  {
   "cell_type": "code",
   "execution_count": 7,
   "metadata": {},
   "outputs": [],
   "source": [
    "from sklearn.preprocessing import PolynomialFeatures\n",
    "poly_features = PolynomialFeatures(degree=2, include_bias = False)\n",
    "X_poly = poly_features.fit_transform(X)"
   ]
  },
  {
   "cell_type": "code",
   "execution_count": 8,
   "metadata": {},
   "outputs": [
    {
     "data": {
      "text/plain": [
       "(array([1.85526726]), array([[0.99105625, 0.50421694]]))"
      ]
     },
     "execution_count": 8,
     "metadata": {},
     "output_type": "execute_result"
    }
   ],
   "source": [
    "lin_reg = LinearRegression()\n",
    "lin_reg.fit(X_poly, y)\n",
    "lin_reg.intercept_, lin_reg.coef_"
   ]
  },
  {
   "cell_type": "markdown",
   "metadata": {},
   "source": [
    "In general we will see such a model perform better than the linear model on training data. We have to distinguissh if this is truly better or just overfitting. We can use an independent test set to do this, and a good way to do this is in conjunction with plotting a learning curve."
   ]
  },
  {
   "cell_type": "code",
   "execution_count": 9,
   "metadata": {},
   "outputs": [],
   "source": [
    "from sklearn.metrics import mean_squared_error\n",
    "from sklearn.model_selection import train_test_split\n",
    "\n",
    "def plot_learning_curves(model, X, Y):\n",
    "    X_train, X_val, y_train, y_val = train_test_split(X,Y, test_size = 0.2)\n",
    "    train_err, val_err = [], []\n",
    "    for m in range(1, len(X_train)):\n",
    "        model.fit(X = X_train[:m], y = y_train[:m])\n",
    "        y_train_predict = model.predict(X_train[:m])\n",
    "        y_val_predict = model.predict(X_val[:m])\n",
    "        train_err.append(mean_squared_error(y_train[:m], y_train_predict[:m]))\n",
    "        val_err.append(mean_squared_error(y_val[:m], y_val_predict[:m]))\n",
    "    plt.plot(np.sqrt(train_err), \"r-\", linewidth = 2, label = \"train\")\n",
    "    plt.plot(np.sqrt(val_err), \"b-\", linewidth = 3, label = \"val\")\n",
    "    plt.legend()\n",
    "    plt.ylim(0,5)\n",
    "    plt.xlabel(\"Training Set Size\")\n",
    "    plt.ylabel(\"RMSE\")"
   ]
  },
  {
   "cell_type": "code",
   "execution_count": 10,
   "metadata": {},
   "outputs": [
    {
     "data": {
      "image/png": "[encoded data removed]",
      "text/plain": [
       "<Figure size 432x288 with 1 Axes>"
      ]
     },
     "metadata": {
      "needs_background": "light"
     },
     "output_type": "display_data"
    }
   ],
   "source": [
    "lin_reg = LinearRegression()\n",
    "plot_learning_curves(lin_reg, X, y)"
   ]
  },
  {
   "cell_type": "code",
   "execution_count": 11,
   "metadata": {},
   "outputs": [
    {
     "data": {
      "image/png": "[encoded data removed]",
      "text/plain": [
       "<Figure size 432x288 with 1 Axes>"
      ]
     },
     "metadata": {
      "needs_background": "light"
     },
     "output_type": "display_data"
    }
   ],
   "source": [
    "from sklearn.pipeline import Pipeline\n",
    "\n",
    "polynomial_regression = Pipeline([\n",
    "    (\"poly_features\", PolynomialFeatures(degree=10, include_bias = False)),\n",
    "    (\"lin_reg\", LinearRegression())\n",
    "])\n",
    "\n",
    "plot_learning_curves(polynomial_regression, X, y)"
   ]
  },
  {
   "cell_type": "markdown",
   "metadata": {},
   "source": [
    "In general we would expect to see lower training error but a larger gap between training and validation when a model is overfitting."
   ]
  },
  {
   "cell_type": "markdown",
   "metadata": {},
   "source": [
    "## Regularised Linear Regression"
   ]
  },
  {
   "cell_type": "markdown",
   "metadata": {},
   "source": [
    "Idea: Reduce overfitting by contraining the size/complexity of the model. In linear regression we can do this by constraining the value of the weights."
   ]
  },
  {
   "cell_type": "markdown",
   "metadata": {},
   "source": [
    "### Ridge Regression"
   ]
  },
  {
   "cell_type": "markdown",
   "metadata": {},
   "source": [
    "Augment the cost function by adding a term proportional to the squared norm of the coefficient vector. Therefore we minimise the objective:\n",
    "\n",
    "$$L(\\beta) = MSE(\\beta) + \\alpha \\sum_{i=1}^n {\\beta_i}^2$$\n",
    "\n",
    "Note we do not include the bias term $\\theta_0$. With ridge resression, as with most regularised models, it is good to scale the inputs before performing regression. We can write the loss as:\n",
    "\n",
    "$$L(\\beta) = (Y-X\\beta)^\\top(Y-X\\beta) + \\alpha A\\beta^2$$\n",
    "\n",
    "where $A$ is thee identity matrix with 0 in the first diagonal. Therefore the minising coefficients are:\n",
    "\n",
    "$$ \\hat{\\beta} = \\left(X^\\top X  + \\alpha A \\right)^{-1} X^\\top Y$$"
   ]
  },
  {
   "cell_type": "markdown",
   "metadata": {},
   "source": [
    "Using closed form:"
   ]
  },
  {
   "cell_type": "code",
   "execution_count": 12,
   "metadata": {},
   "outputs": [
    {
     "data": {
      "text/plain": [
       "array([[4.93261876]])"
      ]
     },
     "execution_count": 12,
     "metadata": {},
     "output_type": "execute_result"
    }
   ],
   "source": [
    "from sklearn.linear_model import Ridge \n",
    "ridge_reg = Ridge(alpha = 1, solver = \"cholesky\")\n",
    "ridge_reg.fit(X,y)\n",
    "ridge_reg.predict([[1.5]])"
   ]
  },
  {
   "cell_type": "markdown",
   "metadata": {},
   "source": [
    "Using SGD:"
   ]
  },
  {
   "cell_type": "code",
   "execution_count": 13,
   "metadata": {},
   "outputs": [
    {
     "data": {
      "text/plain": [
       "array([4.90979399])"
      ]
     },
     "execution_count": 13,
     "metadata": {},
     "output_type": "execute_result"
    }
   ],
   "source": [
    "sgd_reg = SGDRegressor(penalty = \"l2\")\n",
    "sgd_reg.fit(X,y.ravel())\n",
    "sgd_reg.predict([[1.5]])"
   ]
  },
  {
   "cell_type": "markdown",
   "metadata": {},
   "source": [
    "### Lasso Regression"
   ]
  },
  {
   "cell_type": "markdown",
   "metadata": {},
   "source": [
    "Augment the cost function by adding a term proportional to the L1 norm of the coefficient vector. Therefore we minimise the objective:\n",
    "\n",
    "$$L(\\beta) = MSE(\\beta) + \\alpha \\sum_{i=1}^n |\\beta_i|$$\n",
    "\n",
    "This has no closed form minimiser. An important characteristic is that this encourages sparsity. In comparison to ridge regression it will set unimportant feature coefficients to zero instead of just making them small. i.e. Lasso performs automated feature selection as well as regression."
   ]
  },
  {
   "cell_type": "code",
   "execution_count": 14,
   "metadata": {},
   "outputs": [
    {
     "data": {
      "text/plain": [
       "array([4.88230889])"
      ]
     },
     "execution_count": 14,
     "metadata": {},
     "output_type": "execute_result"
    }
   ],
   "source": [
    "from sklearn.linear_model import Lasso \n",
    "lasso_reg = Lasso(alpha = 0.1)\n",
    "lasso_reg.fit(X,y)\n",
    "lasso_reg.predict([[1.5]])"
   ]
  },
  {
   "cell_type": "code",
   "execution_count": 15,
   "metadata": {},
   "outputs": [
    {
     "data": {
      "text/plain": [
       "array([4.92279534])"
      ]
     },
     "execution_count": 15,
     "metadata": {},
     "output_type": "execute_result"
    }
   ],
   "source": [
    "sgd_reg = SGDRegressor(penalty = \"l1\")\n",
    "sgd_reg.fit(X,y.ravel())\n",
    "sgd_reg.predict([[1.5]])"
   ]
  },
  {
   "cell_type": "markdown",
   "metadata": {},
   "source": [
    "### Elastic Net Regression"
   ]
  },
  {
   "cell_type": "markdown",
   "metadata": {},
   "source": [
    "This is a combination of the ridge and lasso penalties where the loss function is:\n",
    "    \n",
    "$$L(\\beta) = MSE(\\beta) + r\\alpha \\sum_{i=1}^n |\\beta_i| + (1-r)\\alpha \\sum_{i=1}^n {\\beta_i}^2$$"
   ]
  },
  {
   "cell_type": "code",
   "execution_count": 16,
   "metadata": {},
   "outputs": [
    {
     "data": {
      "text/plain": [
       "array([4.88316737])"
      ]
     },
     "execution_count": 16,
     "metadata": {},
     "output_type": "execute_result"
    }
   ],
   "source": [
    "from sklearn.linear_model import ElasticNet \n",
    "elastic_net = ElasticNet(alpha = 0.1, l1_ratio = 0.5)\n",
    "elastic_net.fit(X,y)\n",
    "elastic_net.predict([[1.5]])"
   ]
  },
  {
   "cell_type": "markdown",
   "metadata": {},
   "source": [
    "# Early Stopping"
   ]
  },
  {
   "cell_type": "markdown",
   "metadata": {},
   "source": [
    "A different approach to regularisation is to stop GD/SGD once the validation error reaches some threshold, as opposed to minimising the loss. The idea is to stop before the point of overfitting. "
   ]
  },
  {
   "cell_type": "code",
   "execution_count": 17,
   "metadata": {},
   "outputs": [],
   "source": [
    "from sklearn.base import clone\n",
    "from sklearn.preprocessing import StandardScaler\n",
    "from sklearn.preprocessing import PolynomialFeatures\n",
    "from sklearn.model_selection import train_test_split\n",
    "\n",
    "poly_scaler = Pipeline([\n",
    "    (\"poly_features\", PolynomialFeatures(degree = 1, include_bias = False)),\n",
    "    (\"std_scaler\", StandardScaler())\n",
    "])\n",
    "\n",
    "X_train, X_val, y_train, y_val = train_test_split(X, y, test_size=0.2)\n",
    "\n",
    "X_train_poly_scaled = poly_scaler.fit_transform(X_train)\n",
    "X_val_poly_scaled = poly_scaler.fit_transform(X_val)\n",
    "\n",
    "sgd_reg = SGDRegressor(max_iter = 1, tol = -np.infty, warm_start = True, penalty = None, \n",
    "                       learning_rate = \"constant\", eta0 = 0.0005)\n",
    "\n",
    "minimum_val_error = float(\"inf\")\n",
    "best_epoch = None\n",
    "best_model = None\n",
    "for epoch in range(10000):\n",
    "    sgd_reg.fit(X_train_poly_scaled, y_train.ravel())\n",
    "    y_val_predict = sgd_reg.predict(X_val_poly_scaled)\n",
    "    val_error = mean_squared_error(y_val, y_val_predict)\n",
    "    if val_error < minimum_val_error:\n",
    "        minimum_val_error = val_error\n",
    "        best_epoch = epoch\n",
    "        best_model = clone(sgd_reg)"
   ]
  },
  {
   "cell_type": "code",
   "execution_count": 18,
   "metadata": {},
   "outputs": [
    {
     "data": {
      "text/plain": [
       "array([4.25722189])"
      ]
     },
     "execution_count": 18,
     "metadata": {},
     "output_type": "execute_result"
    }
   ],
   "source": [
    "sgd_reg.predict(poly_scaler.transform([[1.5]]))"
   ]
  },
  {
   "cell_type": "markdown",
   "metadata": {},
   "source": [
    "# Logistic Regression"
   ]
  },
  {
   "cell_type": "markdown",
   "metadata": {},
   "source": [
    "Commonly used in classification and can predict the probability that an instance belongs to a particular class. The output of the model is:\n",
    "\n",
    "$$\\hat{p} = \\sigma(x^\\top\\beta)$$\n",
    "\n",
    "Where:\n",
    "\n",
    "$$\\sigma (t) = \\frac{1}{1+\\exp(-t)}$$\n",
    "\n",
    "Then classification is typically done by:\n",
    "\n",
    "$$\\hat{y} = \\begin{cases}0 & \\text{ if } \\hat{p}<0.5 \\\\ 1 & \\text{ if } \\hat{p}\\geq 0.5  \\end{cases}$$\n",
    "\n",
    "\n",
    "Equivalently:\n",
    "\n",
    "$$\\hat{y} = \\begin{cases}0 & \\text{ if } x^\\top\\beta<0 \\\\ 1 & \\text{ if } x^\\top\\beta \\geq 0  \\end{cases}$$\n",
    "\n",
    "This is trained by the cross-entropy classification loss, which is just the negative log-likelihood under this model:\n",
    "\n",
    "$$L(\\beta) = -\\frac{1}{m} \\sum_{i=1}^m \\left[y^i \\log\\left(\\hat{p}^i\\right)+\\left(1-y^i\\right)\\log\\left(1-\\hat{p}^i\\right) \\right]$$\n",
    "\n",
    "No closed form minimiser exists but we can use a gradient descent type algorithm, to train with the gradients of the form:\n",
    "\n",
    "$$\\frac{\\partial }{\\partial \\theta_j}L(\\theta) = \\frac{1}{m}\\sum_{i=1}^m \\left(\\sigma\\left(\\theta^\\top x^i\\right)-y^i\\right)x_j^i$$"
   ]
  },
  {
   "cell_type": "code",
   "execution_count": 24,
   "metadata": {},
   "outputs": [
    {
     "data": {
      "text/plain": [
       "['data',\n",
       " 'target',\n",
       " 'frame',\n",
       " 'target_names',\n",
       " 'DESCR',\n",
       " 'feature_names',\n",
       " 'filename']"
      ]
     },
     "execution_count": 24,
     "metadata": {},
     "output_type": "execute_result"
    }
   ],
   "source": [
    "from sklearn import datasets\n",
    "iris = datasets.load_iris()\n",
    "list(iris.keys())"
   ]
  },
  {
   "cell_type": "code",
   "execution_count": 26,
   "metadata": {},
   "outputs": [],
   "source": [
    "x = iris[\"data\"][:,3:] # trying with one feature\n",
    "y = (iris[\"target\"]== 2).astype(int) # only try to predict in class 2 or not"
   ]
  },
  {
   "cell_type": "code",
   "execution_count": 76,
   "metadata": {},
   "outputs": [
    {
     "data": {
      "text/plain": [
       "<matplotlib.legend.Legend at 0x1bce311de50>"
      ]
     },
     "execution_count": 76,
     "metadata": {},
     "output_type": "execute_result"
    },
    {
     "data": {
      "image/png": "[encoded data removed]",
      "text/plain": [
       "<Figure size 432x288 with 1 Axes>"
      ]
     },
     "metadata": {
      "needs_background": "light"
     },
     "output_type": "display_data"
    }
   ],
   "source": [
    "from sklearn.linear_model import LogisticRegression\n",
    "from scipy.optimize import fsolve\n",
    "log_reg = LogisticRegression()\n",
    "log_reg.fit(x,y)\n",
    "\n",
    "x_new = np.linspace(0,3,1000).reshape(-1,1)\n",
    "y_prob = log_reg.predict_proba(x_new)\n",
    "plt.plot(x_new, y_prob[:,1], \"g-\", label = \"Iris Virginica\")\n",
    "plt.plot(x_new, y_prob[:,0], \"b--\", label = \"Not Iris Virginica\")\n",
    "plt.xlabel(\"Petal Width (cm)\")\n",
    "plt.ylabel(\"Probability\")\n",
    "class0 = [x[i][0] for i in range(len(x)) if y[i] == 0]\n",
    "class1 = [x[i][0] for i in range(len(x)) if y[i] == 1]\n",
    "proba_fn = lambda x: log_reg.predict_proba([x])[0][0]-0.5\n",
    "bdry = -log_reg.intercept_[0]/log_reg.coef_[0]\n",
    "plt.plot([bdry]*2, [0,1], \"k--\", label = \"Decision Boundary\")\n",
    "plt.plot(class0, [0]*len(class0), \"bo\")\n",
    "plt.plot(class1, [1]*len(class1), \"go\")\n",
    "plt.legend()"
   ]
  },
  {
   "cell_type": "code",
   "execution_count": 77,
   "metadata": {},
   "outputs": [],
   "source": [
    "x = iris[\"data\"][:,2:] # trying with two features\n",
    "y = (iris[\"target\"]== 2).astype(int) # only try to predict in class 2 or not"
   ]
  },
  {
   "cell_type": "code",
   "execution_count": 92,
   "metadata": {},
   "outputs": [
    {
     "data": {
      "text/plain": [
       "Text(0, 0.5, 'Petal Width')"
      ]
     },
     "execution_count": 92,
     "metadata": {},
     "output_type": "execute_result"
    },
    {
     "data": {
      "image/png": "[encoded data removed]",
      "text/plain": [
       "<Figure size 432x288 with 1 Axes>"
      ]
     },
     "metadata": {
      "needs_background": "light"
     },
     "output_type": "display_data"
    }
   ],
   "source": [
    "log_reg = LogisticRegression()\n",
    "log_reg.fit(x,y)\n",
    "intercept = log_reg.intercept_\n",
    "theta1 = log_reg.coef_[0][0]\n",
    "theta2 = log_reg.coef_[0][1]\n",
    "x1 = np.linspace(3,7,1000)\n",
    "x2 = (-intercept-theta1*x1)/theta2\n",
    "plt.plot(x1,x2, \"k--\", label = \"Decision Boundary\")\n",
    "\n",
    "class0 = [x[i] for i in range(len(x)) if y[i] == 0]\n",
    "class1 = [x[i] for i in range(len(x)) if y[i] == 1]\n",
    "plt.plot([val[0] for val in class0], [val[1] for val in class0], \"bo\", label = \"Not Iris Virginica\")\n",
    "plt.plot([val[0] for val in class1], [val[1] for val in class1], \"gs\", label = \"Iris Virginica\")\n",
    "plt.xlabel(\"Petal Length\")\n",
    "plt.ylabel(\"Petal Width\")\n"
   ]
  },
  {
   "cell_type": "markdown",
   "metadata": {},
   "source": [
    "Logistic Regression extends naturally to the multicalss problem by the use of the softmax function to compute probabilities for each class, instead of just sigmoid compuhting one probability as in Logistic Regression. Corresponding there is a paramter vector $\\beta^k$ for each of the $k$ classes instead of just one. "
   ]
  },
  {
   "cell_type": "code",
   "execution_count": 104,
   "metadata": {},
   "outputs": [
    {
     "data": {
      "text/plain": [
       "<matplotlib.contour.QuadContourSet at 0x1bce4ff2850>"
      ]
     },
     "execution_count": 104,
     "metadata": {},
     "output_type": "execute_result"
    },
    {
     "data": {
      "image/png": "[encoded data removed]",
      "text/plain": [
       "<Figure size 432x288 with 1 Axes>"
      ]
     },
     "metadata": {
      "needs_background": "light"
     },
     "output_type": "display_data"
    }
   ],
   "source": [
    "x= iris[\"data\"][:, (2,3)]\n",
    "y = iris[\"target\"]\n",
    "\n",
    "softmax_reg = LogisticRegression(multi_class = \"multinomial\", solver = \"lbfgs\", C=10)\n",
    "softmax_reg.fit(x,y)\n",
    "\n",
    "class0 = [x[i] for i in range(len(x)) if y[i] == 0]\n",
    "class1 = [x[i] for i in range(len(x)) if y[i] == 1]\n",
    "class2 = [x[i] for i in range(len(x)) if y[i] == 2]\n",
    "\n",
    "plt.plot([val[0] for val in class0], [val[1] for val in class0], \"bo\", label = \"Not Iris Virginica\")\n",
    "plt.plot([val[0] for val in class1], [val[1] for val in class1], \"gs\", label = \"Iris Virginica\")\n",
    "plt.plot([val[0] for val in class2], [val[1] for val in class2], \"y*\", label = \"Not Iris Virginica\")\n",
    "plt.xlabel(\"Petal Length\")\n",
    "plt.ylabel(\"Petal Width\")\n",
    "\n",
    "\n",
    "xx,yy = np.meshgrid(np.linspace(0,7,1000), np.linspace(0,3.5,1000))\n",
    "z = softmax_reg.predict(np.c_[xx.ravel(), yy.ravel()]).reshape(xx.shape)\n",
    "plt.contourf(xx,yy,z)"
   ]
  },
  {
   "cell_type": "code",
   "execution_count": null,
   "metadata": {},
   "outputs": [],
   "source": []
  }
 ],
 "metadata": {
  "kernelspec": {
   "display_name": "Python 3",
   "language": "python",
   "name": "python3"
  },
  "language_info": {
   "codemirror_mode": {
    "name": "ipython",
    "version": 3
   },
   "file_extension": ".py",
   "mimetype": "text/x-python",
   "name": "python",
   "nbconvert_exporter": "python",
   "pygments_lexer": "ipython3",
   "version": "3.8.5"
  }
 },
 "nbformat": 4,
 "nbformat_minor": 4
}
